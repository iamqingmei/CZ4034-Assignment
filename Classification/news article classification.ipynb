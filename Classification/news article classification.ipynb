{
 "cells": [
  {
   "cell_type": "code",
   "execution_count": 1,
   "metadata": {
    "collapsed": true
   },
   "outputs": [],
   "source": [
    "import json\n",
    "import pandas as pd\n",
    "import numpy as np\n",
    "import os"
   ]
  },
  {
   "cell_type": "markdown",
   "metadata": {},
   "source": [
    "## Load data\n"
   ]
  },
  {
   "cell_type": "code",
   "execution_count": 70,
   "metadata": {
    "collapsed": true
   },
   "outputs": [],
   "source": [
    "data_dir = \"../data/\"\n",
    "labels = ['politics','sport','health','money','local']\n",
    "\n",
    "if os.path.exists(\"../data/data_df.csv\"):\n",
    "    data_df = pd.DataFrame.from_csv(\"../data/data_df.csv\")\n",
    "else:\n",
    "    data = []\n",
    "    for l in labels:\n",
    "        for name in os.listdir(data_dir + l):\n",
    "            article = json.load(open(data_dir + l + \"/\" + name))\n",
    "            text = article['text']\n",
    "            if text.endswith(\"Read More\"):\n",
    "                text = text[:-len(\"Read More\")]\n",
    "            art_list = [article['title'],text,l]\n",
    "            data.append(art_list)\n",
    "    data = np.array(data)\n",
    "    data_df = pd.DataFrame(data,columns=['title','text','label'])\n",
    "    data_df.to_csv(\"../data/data_df.csv\")"
   ]
  },
  {
   "cell_type": "markdown",
   "metadata": {},
   "source": [
    "## Preprocess data\n",
    "1.  categories into discrete numerical values;\n",
    "2.  Transform all words to lowercase;\n",
    "3.  Remove all punctuations.\n",
    "4.  Tokenization and stemming the tokens."
   ]
  },
  {
   "cell_type": "code",
   "execution_count": 72,
   "metadata": {},
   "outputs": [],
   "source": [
    "import string\n",
    "\n",
    "data_df['label'] = data_df.label.map({ 'local':0, 'politics': 1, 'sport': 2, 'health': 3, 'money': 4})\n",
    "data_df['title'] = data_df.title.map(\n",
    "    lambda x: x.lower().translate(str.maketrans('','', string.punctuation))\n",
    ")\n",
    "data_df['text'] = data_df.text.map(\n",
    "    lambda x: x.lower().translate(str.maketrans('','', string.punctuation))\n",
    ")\n",
    "\n",
    "from nltk.stem.porter import *\n",
    "import nltk \n",
    "\n",
    "\n",
    "stemmer = PorterStemmer()\n",
    "\n",
    "data_df['title_stem'] = data_df.title.map(\n",
    "    lambda x: ' '.join([stemmer.stem(w) for w in nltk.word_tokenize(x)]))\n",
    "\n",
    "data_df['text_stem'] = data_df.text.map(\n",
    "    lambda x: ' '.join([stemmer.stem(w) for w in nltk.word_tokenize(x)[:1000]]))"
   ]
  },
  {
   "cell_type": "code",
   "execution_count": 73,
   "metadata": {},
   "outputs": [
    {
     "data": {
      "text/html": [
       "<div>\n",
       "<style>\n",
       "    .dataframe thead tr:only-child th {\n",
       "        text-align: right;\n",
       "    }\n",
       "\n",
       "    .dataframe thead th {\n",
       "        text-align: left;\n",
       "    }\n",
       "\n",
       "    .dataframe tbody tr th {\n",
       "        vertical-align: top;\n",
       "    }\n",
       "</style>\n",
       "<table border=\"1\" class=\"dataframe\">\n",
       "  <thead>\n",
       "    <tr style=\"text-align: right;\">\n",
       "      <th></th>\n",
       "      <th>title</th>\n",
       "      <th>text</th>\n",
       "      <th>label</th>\n",
       "      <th>title_stem</th>\n",
       "      <th>text_stem</th>\n",
       "    </tr>\n",
       "  </thead>\n",
       "  <tbody>\n",
       "    <tr>\n",
       "      <th>0</th>\n",
       "      <td>a wild weekend of trump tweets</td>\n",
       "      <td>washington cnn even by his standards president...</td>\n",
       "      <td>1</td>\n",
       "      <td>a wild weekend of trump tweet</td>\n",
       "      <td>washington cnn even by hi standard presid dona...</td>\n",
       "    </tr>\n",
       "    <tr>\n",
       "      <th>1</th>\n",
       "      <td>scaramucci suggests trump may veto bipartisan ...</td>\n",
       "      <td>story highlights gop leaders havent commented ...</td>\n",
       "      <td>1</td>\n",
       "      <td>scaramucci suggest trump may veto bipartisan r...</td>\n",
       "      <td>stori highlight gop leader havent comment on a...</td>\n",
       "    </tr>\n",
       "    <tr>\n",
       "      <th>2</th>\n",
       "      <td>top state department official out after 3 months</td>\n",
       "      <td>story highlights maliz beams had been appointe...</td>\n",
       "      <td>1</td>\n",
       "      <td>top state depart offici out after 3 month</td>\n",
       "      <td>stori highlight maliz beam had been appoint as...</td>\n",
       "    </tr>\n",
       "    <tr>\n",
       "      <th>3</th>\n",
       "      <td>athletes call out trump after national anthem ...</td>\n",
       "      <td>new york cnn president donald trump drew the i...</td>\n",
       "      <td>1</td>\n",
       "      <td>athlet call out trump after nation anthem curr...</td>\n",
       "      <td>new york cnn presid donald trump drew the ire ...</td>\n",
       "    </tr>\n",
       "    <tr>\n",
       "      <th>4</th>\n",
       "      <td>chief of staff to congresswoman placed on leav...</td>\n",
       "      <td>story highlights rep brenda lawrence wrote pro...</td>\n",
       "      <td>1</td>\n",
       "      <td>chief of staff to congresswoman place on leav ...</td>\n",
       "      <td>stori highlight rep brenda lawrenc wrote propo...</td>\n",
       "    </tr>\n",
       "  </tbody>\n",
       "</table>\n",
       "</div>"
      ],
      "text/plain": [
       "                                               title  \\\n",
       "0                     a wild weekend of trump tweets   \n",
       "1  scaramucci suggests trump may veto bipartisan ...   \n",
       "2   top state department official out after 3 months   \n",
       "3  athletes call out trump after national anthem ...   \n",
       "4  chief of staff to congresswoman placed on leav...   \n",
       "\n",
       "                                                text  label  \\\n",
       "0  washington cnn even by his standards president...      1   \n",
       "1  story highlights gop leaders havent commented ...      1   \n",
       "2  story highlights maliz beams had been appointe...      1   \n",
       "3  new york cnn president donald trump drew the i...      1   \n",
       "4  story highlights rep brenda lawrence wrote pro...      1   \n",
       "\n",
       "                                          title_stem  \\\n",
       "0                      a wild weekend of trump tweet   \n",
       "1  scaramucci suggest trump may veto bipartisan r...   \n",
       "2          top state depart offici out after 3 month   \n",
       "3  athlet call out trump after nation anthem curr...   \n",
       "4  chief of staff to congresswoman place on leav ...   \n",
       "\n",
       "                                           text_stem  \n",
       "0  washington cnn even by hi standard presid dona...  \n",
       "1  stori highlight gop leader havent comment on a...  \n",
       "2  stori highlight maliz beam had been appoint as...  \n",
       "3  new york cnn presid donald trump drew the ire ...  \n",
       "4  stori highlight rep brenda lawrenc wrote propo...  "
      ]
     },
     "execution_count": 73,
     "metadata": {},
     "output_type": "execute_result"
    }
   ],
   "source": [
    "data_df.head()"
   ]
  },
  {
   "cell_type": "code",
   "execution_count": 74,
   "metadata": {},
   "outputs": [],
   "source": [
    "data_df['title+text_steam'] = data_df['text_stem'].values + data_df['title_stem'].values"
   ]
  },
  {
   "cell_type": "markdown",
   "metadata": {},
   "source": [
    "## Split into train and test data sets"
   ]
  },
  {
   "cell_type": "code",
   "execution_count": 75,
   "metadata": {},
   "outputs": [
    {
     "name": "stdout",
     "output_type": "stream",
     "text": [
      "Training dataset:  (7608,)\n",
      "Test dataset:  (2537,)\n"
     ]
    }
   ],
   "source": [
    "from sklearn.model_selection import train_test_split\n",
    "\n",
    "X_train, X_test, y_train, y_test = train_test_split(\n",
    "    data_df['title+text_steam'].values, \n",
    "    data_df['label'].values, \n",
    "    random_state = 1\n",
    ")\n",
    "\n",
    "print(\"Training dataset: \", X_train.shape)\n",
    "print(\"Test dataset: \", X_test.shape)"
   ]
  },
  {
   "cell_type": "markdown",
   "metadata": {},
   "source": [
    "## Extract features\n",
    "Apply bag of words processing to the dataset"
   ]
  },
  {
   "cell_type": "code",
   "execution_count": 76,
   "metadata": {
    "collapsed": true
   },
   "outputs": [],
   "source": [
    "from sklearn.feature_extraction.text import CountVectorizer\n",
    "\n",
    "count_vector = CountVectorizer(stop_words = 'english', ngram_range=(1, 2),  max_features=None)\n",
    "training_data = count_vector.fit_transform(X_train)\n",
    "testing_data = count_vector.transform(X_test)"
   ]
  },
  {
   "cell_type": "markdown",
   "metadata": {},
   "source": [
    "## Train Multinomial Naive Bayes classifier"
   ]
  },
  {
   "cell_type": "code",
   "execution_count": 77,
   "metadata": {},
   "outputs": [
    {
     "data": {
      "text/plain": [
       "MultinomialNB(alpha=1.0, class_prior=None, fit_prior=True)"
      ]
     },
     "execution_count": 77,
     "metadata": {},
     "output_type": "execute_result"
    }
   ],
   "source": [
    "from sklearn.naive_bayes import MultinomialNB\n",
    "\n",
    "naive_bayes = MultinomialNB()\n",
    "naive_bayes.fit(training_data, y_train)"
   ]
  },
  {
   "cell_type": "markdown",
   "metadata": {},
   "source": [
    "## Prediction"
   ]
  },
  {
   "cell_type": "code",
   "execution_count": 78,
   "metadata": {
    "collapsed": true
   },
   "outputs": [],
   "source": [
    "predictions = naive_bayes.predict(testing_data)"
   ]
  },
  {
   "cell_type": "code",
   "execution_count": 79,
   "metadata": {},
   "outputs": [
    {
     "name": "stdout",
     "output_type": "stream",
     "text": [
      "Accuracy score:  0.883326763894\n",
      "Recall score:  0.883326763894\n",
      "Precision score:  0.892754931437\n",
      "F1 score:  0.883866583967\n"
     ]
    }
   ],
   "source": [
    "from sklearn.metrics import accuracy_score, recall_score, precision_score, f1_score\n",
    "\n",
    "print(\"Accuracy score: \", accuracy_score(y_test, predictions))\n",
    "print(\"Recall score: \", recall_score(y_test, predictions, average = 'weighted'))\n",
    "print(\"Precision score: \", precision_score(y_test, predictions, average = 'weighted'))\n",
    "print(\"F1 score: \", f1_score(y_test, predictions, average = 'weighted'))"
   ]
  },
  {
   "cell_type": "code",
   "execution_count": null,
   "metadata": {
    "collapsed": true
   },
   "outputs": [],
   "source": []
  }
 ],
 "metadata": {
  "kernelspec": {
   "display_name": "Python 3",
   "language": "python",
   "name": "python3"
  },
  "language_info": {
   "codemirror_mode": {
    "name": "ipython",
    "version": 3
   },
   "file_extension": ".py",
   "mimetype": "text/x-python",
   "name": "python",
   "nbconvert_exporter": "python",
   "pygments_lexer": "ipython3",
   "version": "3.6.1"
  }
 },
 "nbformat": 4,
 "nbformat_minor": 2
}
