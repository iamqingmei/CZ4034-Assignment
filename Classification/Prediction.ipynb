{
 "cells": [
  {
   "cell_type": "code",
   "execution_count": null,
   "metadata": {
    "collapsed": true
   },
   "outputs": [],
   "source": [
    "from sklearn.externals import joblib\n",
    "import string\n",
    "from nltk.stem.porter import *\n",
    "import nltk \n",
    "import re\n",
    "from nltk.stem import WordNetLemmatizer\n",
    "from nltk.corpus import stopwords\n",
    "lemmer = WordNetLemmatizer()\n",
    "import numpy as np"
   ]
  },
  {
   "cell_type": "code",
   "execution_count": null,
   "metadata": {
    "collapsed": true
   },
   "outputs": [],
   "source": [
    "\n",
    "count_vector = joblib.load('../Model/count_vector.pkl') \n",
    "naive_bayes = joblib.load('../Model/naive_bayes.pkl') \n",
    "d = {0: 'local', 1: 'politics', 2: 'sport', 3: 'health', 4: 'money'}"
   ]
  },
  {
   "cell_type": "code",
   "execution_count": null,
   "metadata": {},
   "outputs": [],
   "source": [
    "\n",
    "# title = [\"Navarro says 'no exclusions' on steel and aluminum tariffs\"]\n",
    "# text = [\"Washington (CNN) White House trade adviser Peter Navarro says no countries will be excluded from upcoming steel and aluminum tariffs set to be imposed by the Trump administration, including the United States' greatest allies.\\n\\\"There's a difference between exemptions and country exclusions,\\\" Navarro, the director of the White House Office of Trade and Manufacturing Policy, said Sunday on CNN's \\\"State of the Union.\\\" \\\"There will be an exemption procedure for particular cases where we need to have exemptions so that business can move forward, but at this point in time, there will be no country exclusions.\\\"\\nNavarro said he expects President Donald Trump to sign the measures by the end of this week or early in the next.\\nThe President has long cited Chinese overproduction of steel as a reason to impose tariffs. However, US allies such as Canada and South Korea account for a larger share of American steel imports than China.\\n\\\"The bigger picture here is that China has tremendous overcapacity in both aluminum and steel, and so what they do is flood the world market with this product, and this ripples down to our shores and to other countries,\\\" Navarro said when asked about the issue. \\\"And so China is in many ways the root of the problem for both aluminum and steel for all countries of the world.\\\"\"]"
   ]
  },
  {
   "cell_type": "code",
   "execution_count": null,
   "metadata": {
    "collapsed": true
   },
   "outputs": [],
   "source": [
    "def prediction(title, text):\n",
    "    \"\"\"\n",
    "    example input:\n",
    "    title: [title1,title2,title3]\n",
    "    text: [text1,text2,text3]\n",
    "    return: [result1,result2,result3]\n",
    "    \"\"\"\n",
    "    if len(title) != len(text):\n",
    "        print(\"The number of titles and text must be same!\")\n",
    "        return []\n",
    "    title_lower = [x.lower().translate(str.maketrans('','', string.punctuation)) for x in title]\n",
    "    text_lower = [x.lower().translate(str.maketrans('','', string.punctuation)) for x in text]\n",
    "    title_lem = [' '.join([lemmer.lemmatize(w) for w in nltk.word_tokenize(x) if w not in stopwords.words('english')]) for x in title_lower]\n",
    "    text_lem = [' '.join([lemmer.lemmatize(w) for w in nltk.word_tokenize(x) if w not in stopwords.words('english')]) for x in text_lower]\n",
    "    title_text_lem = []\n",
    "    for i in range(len(title_lem)):\n",
    "        title_text_lem.append(title_lem[i] + text_lem[i])\n",
    "    title_text_lem = np.array(title_text_lem)\n",
    "    \n",
    "    x = count_vector.transform(title_text_lem)\n",
    "    prediction_result = naive_bayes.predict(x)\n",
    "    return [d[i] for i in prediction_result]\n",
    "    "
   ]
  }
 ],
 "metadata": {
  "kernelspec": {
   "display_name": "Python 3",
   "language": "python",
   "name": "python3"
  },
  "language_info": {
   "codemirror_mode": {
    "name": "ipython",
    "version": 3
   },
   "file_extension": ".py",
   "mimetype": "text/x-python",
   "name": "python",
   "nbconvert_exporter": "python",
   "pygments_lexer": "ipython3",
   "version": "3.6.1"
  }
 },
 "nbformat": 4,
 "nbformat_minor": 2
}
