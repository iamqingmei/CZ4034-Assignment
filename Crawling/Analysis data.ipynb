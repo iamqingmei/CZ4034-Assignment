{
 "cells": [
  {
   "cell_type": "code",
   "execution_count": 1,
   "metadata": {
    "collapsed": true
   },
   "outputs": [],
   "source": [
    "import json\n",
    "import os\n",
    "import re\n",
    "from matplotlib.ticker import FuncFormatter\n",
    "import matplotlib.pyplot as plt\n",
    "import numpy as np\n",
    "import nltk\n",
    "from nltk.stem.porter import *\n",
    "stemmer = PorterStemmer()"
   ]
  },
  {
   "cell_type": "code",
   "execution_count": 2,
   "metadata": {
    "collapsed": true
   },
   "outputs": [],
   "source": [
    "data_dir = \"../data/\"\n",
    "labels = ['money','sport','politics','health','local']"
   ]
  },
  {
   "cell_type": "code",
   "execution_count": 3,
   "metadata": {
    "collapsed": true
   },
   "outputs": [],
   "source": [
    "# The number of words, records, types(unique word) in the corpus"
   ]
  },
  {
   "cell_type": "code",
   "execution_count": 4,
   "metadata": {
    "collapsed": true
   },
   "outputs": [],
   "source": [
    "\n",
    "titles = []\n",
    "text = []\n",
    "pub_date = []\n",
    "for l in labels:\n",
    "    for name in os.listdir(data_dir+l):\n",
    "        article = json.load(open(data_dir+l+'/'+name))\n",
    "        titles.append(article['title'])\n",
    "        text.append(article['text'])\n",
    "        pub_date.append(article['date_publish'])"
   ]
  },
  {
   "cell_type": "code",
   "execution_count": 6,
   "metadata": {},
   "outputs": [
    {
     "name": "stdout",
     "output_type": "stream",
     "text": [
      "Number of records: 10145\n"
     ]
    }
   ],
   "source": [
    "# Number of Records:\n",
    "print(\"Number of records: \" + str(len(titles)))"
   ]
  },
  {
   "cell_type": "code",
   "execution_count": 7,
   "metadata": {},
   "outputs": [
    {
     "data": {
      "image/png": "[encoded data removed]",
      "text/plain": [
       "<matplotlib.figure.Figure at 0x11b69de80>"
      ]
     },
     "metadata": {},
     "output_type": "display_data"
    },
    {
     "name": "stdout",
     "output_type": "stream",
     "text": [
      "money: 2931\n",
      "sport: 1563\n",
      "politics: 1827\n",
      "health: 1037\n",
      "local: 2787\n"
     ]
    }
   ],
   "source": [
    "\n",
    "\n",
    "x = np.arange(len(labels))\n",
    "counts = [len(os.listdir(data_dir+l)) for l in labels]\n",
    "\n",
    "\n",
    "\n",
    "fig, ax = plt.subplots()\n",
    "# ax.yaxis.set_major_formatter(formatter)\n",
    "plt.bar(x, counts)\n",
    "plt.title(\"Distribution of Articles from Different Categories\")\n",
    "plt.xticks(x, labels)\n",
    "plt.show()\n",
    "\n",
    "for i in range(len(labels)):\n",
    "    print(labels[i] + \": \" + str(counts[i]))"
   ]
  },
  {
   "cell_type": "code",
   "execution_count": 13,
   "metadata": {},
   "outputs": [],
   "source": [
    "title_stems = []\n",
    "title_words = []\n",
    "for i in titles:\n",
    "    word = nltk.word_tokenize(i)\n",
    "    title_words += word\n",
    "    title_stems += [stemmer.stem(w) for w in word]\n",
    "\n",
    "\n",
    "text_stems = []\n",
    "text_words = []\n",
    "for i in text:\n",
    "    word = nltk.word_tokenize(i)\n",
    "    text_words += word\n",
    "    text_stems += [stemmer.stem(w) for w in word]\n",
    "    \n"
   ]
  },
  {
   "cell_type": "code",
   "execution_count": 14,
   "metadata": {},
   "outputs": [
    {
     "name": "stdout",
     "output_type": "stream",
     "text": [
      "Number of words in titles: 95471\n",
      "Number of words in text: 9047318\n",
      "Number of unique words in text: 129267\n",
      "Number of unique stems in text: 89300\n",
      "Number of unique words in titles: 15706\n",
      "Number of unique stems in titles: 10618\n",
      "Number of unique words in titles and text: 130223\n",
      "Number of unique stems in titles and text: 89824\n"
     ]
    }
   ],
   "source": [
    "# Number of words:\n",
    "print(\"Number of words in titles: \" + str(len(title_words)))\n",
    "print(\"Number of words in text: \" + str(len(text_words)))\n",
    "\n",
    "print(\"Number of unique words in text: \" + str(len(set(text_words))))\n",
    "print(\"Number of unique stems in text: \" + str(len(set(text_stems))))\n",
    "    \n",
    "print(\"Number of unique words in titles: \" + str(len(set(title_words))))\n",
    "print(\"Number of unique stems in titles: \" + str(len(set(title_stems))))\n",
    "\n",
    "print(\"Number of unique words in titles and text: \" + str(len(set(title_words+text_words))))\n",
    "print(\"Number of unique stems in titles and text: \" + str(len(set(title_stems + text_stems))))\n"
   ]
  },
  {
   "cell_type": "code",
   "execution_count": null,
   "metadata": {
    "collapsed": true
   },
   "outputs": [],
   "source": []
  }
 ],
 "metadata": {
  "kernelspec": {
   "display_name": "Python 3",
   "language": "python",
   "name": "python3"
  },
  "language_info": {
   "codemirror_mode": {
    "name": "ipython",
    "version": 3
   },
   "file_extension": ".py",
   "mimetype": "text/x-python",
   "name": "python",
   "nbconvert_exporter": "python",
   "pygments_lexer": "ipython3",
   "version": "3.6.1"
  }
 },
 "nbformat": 4,
 "nbformat_minor": 2
}
