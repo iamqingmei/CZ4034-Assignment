{
 "cells": [
  {
   "cell_type": "code",
   "execution_count": 1,
   "metadata": {
    "collapsed": true
   },
   "outputs": [],
   "source": [
    "from newsplease import NewsPlease\n",
    "import json\n",
    "import os\n",
    "import re"
   ]
  },
  {
   "cell_type": "code",
   "execution_count": 51,
   "metadata": {
    "collapsed": true
   },
   "outputs": [],
   "source": [
    "data_dir = \"../data/\"\n",
    "labels = ['money','sport','entertainment','travel','style', 'multi-labels','politics','health','???','opinions','local']"
   ]
  },
  {
   "cell_type": "code",
   "execution_count": null,
   "metadata": {
    "collapsed": true
   },
   "outputs": [],
   "source": [
    "sourse_dir = \"/Users/Ageha/news-please-repo/data/2018/03/04/money.cnn.com/\""
   ]
  },
  {
   "cell_type": "code",
   "execution_count": 119,
   "metadata": {
    "collapsed": true
   },
   "outputs": [],
   "source": [
    "sourse_dir = \"/Users/Ageha/news-please-repo/data/2018/03/04/edition.cnn.com/\""
   ]
  },
  {
   "cell_type": "code",
   "execution_count": 120,
   "metadata": {
    "collapsed": true
   },
   "outputs": [],
   "source": [
    "log_txt = ''"
   ]
  },
  {
   "cell_type": "code",
   "execution_count": 121,
   "metadata": {
    "collapsed": true
   },
   "outputs": [],
   "source": [
    "if os.path.exists(data_dir) is False:\n",
    "    os.mkdir(data_dir)\n",
    "for l in labels:\n",
    "    if os.path.exists(data_dir+l) is False:\n",
    "        os.mkdir(data_dir+l)"
   ]
  },
  {
   "cell_type": "code",
   "execution_count": 129,
   "metadata": {},
   "outputs": [],
   "source": [
    "def give_label(article):\n",
    "    res = []\n",
    "    if '?' in article['url']:\n",
    "        res.append('???')\n",
    "    \n",
    "    for h in ['http', 'https']:\n",
    "        # sport category\n",
    "        sport_keyword = ['sport','SPORT','football','FOOTBALL', 'golf', 'GOLF', 'tennis', 'TENNIS','motorsport','MOTORSPORT']\n",
    "        for k in sport_keyword:\n",
    "            if re.match(r'^'+h+'://edition.cnn.com/[0-9][0-9][0-9][0-9]/[0-9][0-9]/[0-9][0-9]/' + k + '/.+/index\\.html$',article['url']) is not None:\n",
    "                res.append('sport')\n",
    "            elif re.match(r'^'+h+'://edition.cnn.com/[0-9][0-9][0-9][0-9]/SPORT/' + k + '/[0-9][0-9]/[0-9][0-9]/.+/index\\.html$',article['url']) is not None:\n",
    "                #     \"http://edition.cnn.com/2009/SPORT/football/10/08/football.world.cup.stadiums/index.html\"\n",
    "                res.append('sport')\n",
    "            elif re.match(r'^'+h+'://edition.cnn.com/[0-9][0-9][0-9][0-9]/SPORT/' + k + '/[0-9][0-9]/[0-9][0-9]/.+/$',article['url']) is not None:\n",
    "                res.append('sport')\n",
    "            elif re.match(r'^'+h+'://edition.cnn.com/[0-9][0-9][0-9][0-9]/'+ k + '/[0-9][0-9]/[0-9][0-9]/.+/index\\.html$',article['url']) is not None:\n",
    "                # http://edition.cnn.com/2010/SPORT/02/12/olympic.luge.crash/index.html\"}  \n",
    "                res.append('sport')\n",
    "            elif re.match(r'^'+h+'://edition.cnn.com/[0-9][0-9][0-9][0-9]/[0-9][0-9]/[0-9][0-9]/' + k + '/.+/$',article['url']) is not None:\n",
    "    #             https://edition.cnn.com/2015/11/27/sport/being-ap-mccoy-movie/\n",
    "                res.append('sport')\n",
    "            elif re.match(r'^'+h+'://edition.cnn.com/[0-9][0-9][0-9][0-9]/'+ k + '/[0-9][0-9]/[0-9][0-9]/.+/$',article['url']) is not None:\n",
    "                res.append('sport')\n",
    "        \n",
    "\n",
    "\n",
    "\n",
    "        travel_keyword = ['travel', 'TRAVEL']\n",
    "        for k in travel_keyword:\n",
    "            if re.match(r'^'+h+'://edition.cnn.com/' + k + '/.+/index\\.html$',article['url']) is not None:\n",
    "                res.append('travel')\n",
    "            elif re.match(r'^'+h+'://edition.cnn.com/[0-9][0-9][0-9][0-9]/'+ k + '/[0-9][0-9]/[0-9][0-9]/.+/index\\.html$',article['url']) is not None:\n",
    "                #     \"http://edition.cnn.com/2011/TRAVEL/06/20/airline.alliances.snyder/index.html\"}\n",
    "                res.append('travel')\n",
    "            elif re.match(r'^'+h+'://edition.cnn.com/[0-9][0-9][0-9][0-9]/[0-9][0-9]/[0-9][0-9]/'+ k + '/.+/index\\.html$',article['url']) is not None:\n",
    "#                 \"http://edition.cnn.com/2014/12/16/travel/best-destinations-2015/index.html\"}\n",
    "                res.append('travel')\n",
    "\n",
    "\n",
    "        # style category\n",
    "        if re.match(r'^'+h+'://edition.cnn.com/style/article/.+/index\\.html$',article['url']) is not None:\n",
    "            res.append('style')\n",
    "        if re.match(r'^'+h+'://edition.cnn.com/STYLE/article/.+/index\\.html$',article['url']) is not None:\n",
    "            res.append('style')\n",
    "        # money category\n",
    "        if re.match(r'^'+h+'://money.cnn.com/[0-9][0-9][0-9][0-9]/[0-9][0-9]/[0-9][0-9]/.+/index\\.html$',article['url']) is not None:\n",
    "            res.append('money')\n",
    "            \n",
    "        # entertainment category\n",
    "        if re.match(r'^'+h+'://edition.cnn.com/[0-9][0-9][0-9][0-9]/[0-9][0-9]/[0-9][0-9]/entertainment/.+/index\\.html$',article['url']) is not None:\n",
    "            res.append('entertainment')\n",
    "        if re.match(r'^'+h+'://edition.cnn.com/[0-9][0-9][0-9][0-9]/[0-9][0-9]/[0-9][0-9]/ENTERTAINMENT/.+/index\\.html$',article['url']) is not None:\n",
    "            res.append('entertainment')\n",
    "        # politics category\n",
    "        poli_keyword = ['politics','POLITICS']\n",
    "        for k in poli_keyword:\n",
    "            if re.match(r'^'+h+'://edition.cnn.com/[0-9][0-9][0-9][0-9]/[0-9][0-9]/[0-9][0-9]/'+k+'/.+/index\\.html$',article['url']) is not None:\n",
    "                res.append('politics')\n",
    "            elif re.match(r'^'+h+'://edition.cnn.com/[0-9][0-9][0-9][0-9]/[0-9][0-9]/[0-9][0-9]/'+k+'/.+/$',article['url']) is not None:\n",
    "                res.append('politics')\n",
    "            elif re.match(r'^'+h+'://edition.cnn.com/[0-9][0-9][0-9][0-9]/'+k+'/[0-9][0-9]/[0-9][0-9]/.+/index\\.html$',article['url']) is not None:\n",
    "                res.append('politics')\n",
    "\n",
    "         # local category\n",
    "        local_keyword = ['europe','EUROPE','africa','AFRICA','us','US','americas','AMERICAS','middleeast','MIDDLEEAST','meast','MEAST','asia','ASIA','asiapcf','ASIAPCF']\n",
    "        for k in local_keyword:\n",
    "            if re.match(r'^'+h+'://edition.cnn.com/[0-9][0-9][0-9][0-9]/[0-9][0-9]/[0-9][0-9]/'+k+'/.+/index\\.html$',article['url']) is not None:\n",
    "                res.append('local')\n",
    "            elif re.match(r'^'+h+'://edition.cnn.com/[0-9][0-9][0-9][0-9]/[0-9][0-9]/[0-9][0-9]/'+k+'/.+/$',article['url']) is not None:\n",
    "                res.append('local')\n",
    "            for w in ['world','WORLD']:\n",
    "#                 'https://edition.cnn.com/2011/10/05/world/africa/skulls-return-to-namibia/index.html'\n",
    "                if re.match(r'^'+h+'://edition.cnn.com/[0-9][0-9][0-9][0-9]/'+w+'/'+k+'/[0-9][0-9]/[0-9][0-9]/.+/$',article['url']) is not None:\n",
    "                    #             \"http://edition.cnn.com/2010/WORLD/africa/05/12/eugene.rutagarama.profile/\"}\n",
    "                    res.append('local')\n",
    "                elif re.match(r'^'+h+'://edition.cnn.com/[0-9][0-9][0-9][0-9]/[0-9][0-9]/[0-9][0-9]/'+w+'/'+k+'/.+/index\\.html$',article['url']) is not None:\n",
    "                    res.append('local')\n",
    "                elif re.match(r'^'+h+'://edition.cnn.com/[0-9][0-9][0-9][0-9]/'+w+'/'+k+'/[0-9][0-9]/[0-9][0-9]/.+/index\\.html$',article['url']) is not None:\n",
    "        #  \"http://edition.cnn.com/2010/WORLD/africa/08/31/nigerian.singer.nneka/index.html\"}\n",
    "                    res.append('local')\n",
    "                elif re.match(r'^'+h+'://edition.cnn.com/[0-9][0-9][0-9][0-9]/[0-9][0-9]/[0-9][0-9]/'+w+'/'+k+'/.+/$',article['url']) is not None:\n",
    "                    #               https://edition.cnn.com/2013/07/14/world/africa/south-africa-mandela-mbeki/\n",
    "                    res.append('local')\n",
    "\n",
    "\n",
    "\n",
    "\n",
    "    # http://edition.cnn.com/2011/HEALTH/01/05/autism.vaccines/\"}\n",
    "        health_keyword = ['health','HEALTH']\n",
    "        for k in health_keyword:\n",
    "            if re.match(r'^'+h+'://edition.cnn.com/[0-9][0-9][0-9][0-9]/[0-9][0-9]/[0-9][0-9]/'+k+'/.+/index\\.html$',article['url']) is not None:\n",
    "                res.append('health')\n",
    "            elif re.match(r'^'+h+'://edition.cnn.com/[0-9][0-9][0-9][0-9]/'+k+'(/.+)?/[0-9][0-9]/[0-9][0-9]/.+/index\\.html$',article['url']) is not None:\n",
    "                res.append('health')\n",
    "            elif re.match(r'^'+h+'://edition.cnn.com/[0-9][0-9][0-9][0-9]/'+k+'/[0-9][0-9]/[0-9][0-9]/.+/$',article['url']) is not None:\n",
    "                res.append('health')\n",
    "            elif re.match(r'^'+h+'://edition.cnn.com/[0-9][0-9][0-9][0-9]/[0-9][0-9]/[0-9][0-9]/'+k+'/.+/$',article['url']) is not None:\n",
    "                res.append('health')\n",
    "                \n",
    "#                 \"http://edition.cnn.com/2011/HEALTH/expert.q.a/11/20/male.urination.frequency.shu/index.html\"}\n",
    "\n",
    "        opinion_keyword = ['opinions','OPINIONS','OPINION','opinion']\n",
    "        for k in opinion_keyword:\n",
    "            if re.match(r'^'+h+'://edition.cnn.com/[0-9][0-9][0-9][0-9]/[0-9][0-9]/[0-9][0-9]/'+k+'/.+/index\\.html$',article['url']) is not None:\n",
    "                # \"https://edition.cnn.com/2015/11/02/opinions/beckel-nation-of-addicts/index.html\"\n",
    "                res.append('opinions')\n",
    "            elif re.match(r'^'+h+'://edition.cnn.com/[0-9][0-9][0-9][0-9]/'+k+'/[0-9][0-9]/[0-9][0-9]/.+/index\\.html$',article['url']) is not None:\n",
    "    #              \"http://edition.cnn.com/2010/OPINION/08/20/ayittey.democracy.africa/index.html\"}\n",
    "                res.append('opinions')\n",
    "            elif re.match(r'^'+h+'://edition.cnn.com/[0-9][0-9][0-9][0-9]/[0-9][0-9]/[0-9][0-9]/'+k+'/.+/$',article['url']) is not None:\n",
    "                # \"https://edition.cnn.com/2015/11/02/opinions/beckel-nation-of-addicts/index.html\"\n",
    "                res.append('opinions')\n",
    "                \n",
    "    return res"
   ]
  },
  {
   "cell_type": "code",
   "execution_count": null,
   "metadata": {},
   "outputs": [],
   "source": [
    "json_names = os.listdir(sourse_dir)\n",
    "for jname in json_names:\n",
    "    if jname.endswith('.json') is False:\n",
    "        # if the file is not a json file, skip it\n",
    "        continue\n",
    "    article = json.load(open(sourse_dir + jname))\n",
    "    \n",
    "    if article['text'] is None:\n",
    "        os.remove(sourse_dir + jname)\n",
    "        continue\n",
    "    \n",
    "    res = give_label(article)\n",
    "\n",
    "        \n",
    "    if (len(res) == 1):\n",
    "        os.rename(sourse_dir + jname, data_dir+res[0]+'/'+jname)\n",
    "    elif (len(res) > 1):\n",
    "        # the article belongs to multiple categories\n",
    "        os.rename(sourse_dir + jname, data_dir+'multi-labels/'+jname)\n",
    "    else:\n",
    "        # error\n",
    "        log_txt+= sourse_dir + jname + '\\n'\n"
   ]
  },
  {
   "cell_type": "code",
   "execution_count": null,
   "metadata": {
    "collapsed": true
   },
   "outputs": [],
   "source": []
  },
  {
   "cell_type": "code",
   "execution_count": null,
   "metadata": {},
   "outputs": [],
   "source": [
    "with open('./log.txt','a') as f:\n",
    "    f.write(log_txt)"
   ]
  },
  {
   "cell_type": "code",
   "execution_count": null,
   "metadata": {},
   "outputs": [],
   "source": [
    "for l in labels:\n",
    "    print(l + \": \" + str(len(os.listdir(data_dir+l))))"
   ]
  },
  {
   "cell_type": "code",
   "execution_count": null,
   "metadata": {
    "collapsed": true
   },
   "outputs": [],
   "source": []
  }
 ],
 "metadata": {
  "kernelspec": {
   "display_name": "Python 3",
   "language": "python",
   "name": "python3"
  },
  "language_info": {
   "codemirror_mode": {
    "name": "ipython",
    "version": 3
   },
   "file_extension": ".py",
   "mimetype": "text/x-python",
   "name": "python",
   "nbconvert_exporter": "python",
   "pygments_lexer": "ipython3",
   "version": "3.6.1"
  }
 },
 "nbformat": 4,
 "nbformat_minor": 2
}
