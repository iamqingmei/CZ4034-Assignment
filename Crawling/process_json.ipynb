{
 "cells": [
  {
   "cell_type": "code",
   "execution_count": 7,
   "metadata": {
    "collapsed": true
   },
   "outputs": [],
   "source": [
    "from newsplease import NewsPlease\n",
    "import json"
   ]
  },
  {
   "cell_type": "code",
   "execution_count": 18,
   "metadata": {},
   "outputs": [],
   "source": [
    "htmlfile_path = '/Users/Ageha/Desktop/2017_03_16_media_public-media-pbs-npr-budget-cuts_index_1520154085.html'\n",
    "json_file_path = '/Users/Ageha/Desktop/2017_03_16_news_bomb-imf-paris-germany-greece_index_1520154084.html.json'\n"
   ]
  },
  {
   "cell_type": "code",
   "execution_count": null,
   "metadata": {
    "collapsed": true
   },
   "outputs": [],
   "source": [
    "soup = BeautifulSoup(open(htmlfile_path,'r'), 'html.parser')"
   ]
  },
  {
   "cell_type": "code",
   "execution_count": 19,
   "metadata": {},
   "outputs": [],
   "source": [
    "article = json.load(open(json_file_path))"
   ]
  },
  {
   "cell_type": "code",
   "execution_count": 23,
   "metadata": {},
   "outputs": [
    {
     "data": {
      "text/plain": [
       "'2017-03-16 08:16:57'"
      ]
     },
     "execution_count": 23,
     "metadata": {},
     "output_type": "execute_result"
    }
   ],
   "source": [
    "article['date_publish']"
   ]
  },
  {
   "cell_type": "code",
   "execution_count": 20,
   "metadata": {},
   "outputs": [
    {
     "data": {
      "text/plain": [
       "'IMF says 1 staffer injured in explosion at its Paris offices'"
      ]
     },
     "execution_count": 20,
     "metadata": {},
     "output_type": "execute_result"
    }
   ],
   "source": [
    "article['title']"
   ]
  },
  {
   "cell_type": "code",
   "execution_count": 21,
   "metadata": {},
   "outputs": [
    {
     "data": {
      "text/plain": [
       "['Charles Riley']"
      ]
     },
     "execution_count": 21,
     "metadata": {},
     "output_type": "execute_result"
    }
   ],
   "source": [
    "article['authors']"
   ]
  },
  {
   "cell_type": "code",
   "execution_count": 22,
   "metadata": {},
   "outputs": [
    {
     "name": "stdout",
     "output_type": "stream",
     "text": [
      "One employee of the International Monetary Fund has been injured in an explosion at the group's offices in Paris.\n",
      "\"I have been in touch with the office, and my compassion goes to the colleagues there,\" IMF boss Christine Lagarde said in a statement. \"I condemn this cowardly act of violence and reaffirm the IMF's resolve to continue our work in line with our mandate.\"\n",
      "A Greek official said on local television Thursday that French authorities said the package was shipped from Greece.\n",
      "Local media reports indicated the explosion may have been caused by a letter bomb.\n",
      "The incident comes one day after a package containing explosives was discovered at the German finance ministry. Berlin police said on Thursday that the package was also posted in Greece. Greek law enforcement officials confirmed that the package had been sent from Athens.\n",
      "It was not immediately clear whether the cases in France and Germany are connected.\n",
      "The package in Germany was delivered to the finance ministry's post room at 9.30 am local time on Wednesday. Berlin police determined that it contained explosives used in fireworks that would have caused considerable damage if opened.\n",
      "Berlin 'parcel bomb' came from Athens\n",
      "A Greek anti-establishment radical group \"Conspiracy of the Cells of Fire\" claimed responsibility for sending the package to Germany.\n",
      "\"We still have the rage,\" it said in a statement posted online. \"We sent the parcel bomb to the minister of finance of Germany as part of the second act of the Project Nemesis. Nothing is over, everything continues.\"\n",
      "Conspiracy of the Cells of Fire was also behind a wave of parcel bombs in 2010 sent to embassies in Athens.\n",
      "Germany and the IMF have led successive Greek bailouts that saved the country from bankruptcy and crashing out of the euro in return for years of deep austerity including big cuts to pensions and government spending.\n",
      "The Greek economy has shrunk by about 25% since 2008.\n",
      "A spokesperson for the European Central Bank, another major player in the Greek bailout, said it raised its level of alertness on Thursday.\n",
      "German finance minister Wolfgang Schäuble is scheduled to meet U.S. Treasury secretary Steven Mnuchin in Berlin on Thursday. Their talks come on the eve of a meeting of G-20 finance ministers and central bankers in Baden-Baden, Germany.\n",
      "-- Nadine Schmidt, Chris Liakos and Elinda Labropoulou contributed reporting.\n"
     ]
    }
   ],
   "source": [
    "print(article['text'])"
   ]
  }
 ],
 "metadata": {
  "kernelspec": {
   "display_name": "Python 3",
   "language": "python",
   "name": "python3"
  },
  "language_info": {
   "codemirror_mode": {
    "name": "ipython",
    "version": 3
   },
   "file_extension": ".py",
   "mimetype": "text/x-python",
   "name": "python",
   "nbconvert_exporter": "python",
   "pygments_lexer": "ipython3",
   "version": "3.6.1"
  }
 },
 "nbformat": 4,
 "nbformat_minor": 2
}
