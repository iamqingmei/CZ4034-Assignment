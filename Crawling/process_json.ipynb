{
 "cells": [
  {
   "cell_type": "code",
   "execution_count": 1,
   "metadata": {
    "collapsed": true
   },
   "outputs": [],
   "source": [
    "from newsplease import NewsPlease\n",
    "import json\n",
    "import os\n",
    "import re"
   ]
  },
  {
   "cell_type": "code",
   "execution_count": 2,
   "metadata": {
    "collapsed": true
   },
   "outputs": [],
   "source": [
    "data_dir = \"../data/\"\n",
    "labels = ['money','sport','entertainment','travel','style', 'multi-labels','politics','health','???','opinions','local']"
   ]
  },
  {
   "cell_type": "code",
   "execution_count": 4,
   "metadata": {
    "collapsed": true
   },
   "outputs": [],
   "source": [
    "sourse_dir = \"/Users/Ageha/news-please-repo/data/2018/03/04/edition.cnn.com/\""
   ]
  },
  {
   "cell_type": "code",
   "execution_count": 5,
   "metadata": {
    "collapsed": true
   },
   "outputs": [],
   "source": [
    "if os.path.exists(data_dir) is False:\n",
    "    os.mkdir(data_dir)\n",
    "for l in labels:\n",
    "    if os.path.exists(data_dir+l) is False:\n",
    "        os.mkdir(data_dir+l)"
   ]
  },
  {
   "cell_type": "code",
   "execution_count": 6,
   "metadata": {
    "collapsed": true
   },
   "outputs": [],
   "source": [
    "def give_label(article):\n",
    "    res = []\n",
    "    if '?' in article['url']:\n",
    "        res.append('???')\n",
    "    \n",
    "    for h in ['http', 'https']:\n",
    "        # sport category\n",
    "        sport_keyword = ['sport','SPORT','football','FOOTBALL', 'golf', 'GOLF', 'tennis', 'TENNIS','motorsport','MOTORSPORT']\n",
    "        for k in sport_keyword:\n",
    "            if re.match(r'^'+h+'://edition.cnn.com/\\d{4}/\\d{2}/\\d{2}/' + k + '/.+/index\\.html$',article['url']) is not None:\n",
    "                res.append('sport')\n",
    "            elif re.match(r'^'+h+'://edition.cnn.com/\\d{4}/SPORT/' + k + '/\\d{2}/\\d{2}/.+/index\\.html$',article['url']) is not None:\n",
    "                #     \"http://edition.cnn.com/2009/SPORT/football/10/08/football.world.cup.stadiums/index.html\"\n",
    "                res.append('sport')\n",
    "            elif re.match(r'^'+h+'://edition.cnn.com/\\d{4}/SPORT/' + k + '/\\d{2}/\\d{2}/.+/$',article['url']) is not None:\n",
    "                res.append('sport')\n",
    "            elif re.match(r'^'+h+'://edition.cnn.com/\\d{4}/'+ k + '/\\d{2}/\\d{2}/.+/index\\.html$',article['url']) is not None:\n",
    "                # http://edition.cnn.com/2010/SPORT/02/12/olympic.luge.crash/index.html\"}  \n",
    "                res.append('sport')\n",
    "            elif re.match(r'^'+h+'://edition.cnn.com/\\d{4}/\\d{2}/\\d{2}/' + k + '/.+/$',article['url']) is not None:\n",
    "    #             https://edition.cnn.com/2015/11/27/sport/being-ap-mccoy-movie/\n",
    "                res.append('sport')\n",
    "            elif re.match(r'^'+h+'://edition.cnn.com/\\d{4}/'+ k + '/\\d{2}/\\d{2}/.+/$',article['url']) is not None:\n",
    "                res.append('sport')\n",
    "        \n",
    "\n",
    "\n",
    "\n",
    "        travel_keyword = ['travel', 'TRAVEL']\n",
    "        for k in travel_keyword:\n",
    "            if re.match(r'^'+h+'://edition.cnn.com/' + k + '/.+/index\\.html$',article['url']) is not None:\n",
    "                res.append('travel')\n",
    "            elif re.match(r'^'+h+'://edition.cnn.com/\\d{4}/'+ k + '/\\d{2}/\\d{2}/.+/index\\.html$',article['url']) is not None:\n",
    "                #     \"http://edition.cnn.com/2011/TRAVEL/06/20/airline.alliances.snyder/index.html\"}\n",
    "                res.append('travel')\n",
    "            elif re.match(r'^'+h+'://edition.cnn.com/\\d{4}/\\d{2}/\\d{2}/'+ k + '/.+/index\\.html$',article['url']) is not None:\n",
    "#                 \"http://edition.cnn.com/2014/12/16/travel/best-destinations-2015/index.html\"}\n",
    "                res.append('travel')\n",
    "\n",
    "\n",
    "        # style category\n",
    "        if re.match(r'^'+h+'://edition.cnn.com/style/article/.+/index\\.html$',article['url']) is not None:\n",
    "            res.append('style')\n",
    "        if re.match(r'^'+h+'://edition.cnn.com/STYLE/article/.+/index\\.html$',article['url']) is not None:\n",
    "            res.append('style')\n",
    "        # money category\n",
    "        if re.match(r'^'+h+'://money.cnn.com/\\d{4}/\\d{2}/\\d{2}/.+/index\\.html$',article['url']) is not None:\n",
    "            res.append('money')\n",
    "            \n",
    "        # entertainment category\n",
    "        if re.match(r'^'+h+'://edition.cnn.com/\\d{4}/\\d{2}/\\d{2}/entertainment/.+/index\\.html$',article['url']) is not None:\n",
    "            res.append('entertainment')\n",
    "        if re.match(r'^'+h+'://edition.cnn.com/\\d{4}/\\d{2}/\\d{2}/ENTERTAINMENT/.+/index\\.html$',article['url']) is not None:\n",
    "            res.append('entertainment')\n",
    "        # politics category\n",
    "        poli_keyword = ['politics','POLITICS']\n",
    "        for k in poli_keyword:\n",
    "            if re.match(r'^'+h+'://edition.cnn.com/\\d{4}/\\d{2}/\\d{2}/'+k+'/.+/index\\.html$',article['url']) is not None:\n",
    "                res.append('politics')\n",
    "            elif re.match(r'^'+h+'://edition.cnn.com/\\d{4}/\\d{2}/\\d{2}/'+k+'/.+/$',article['url']) is not None:\n",
    "                res.append('politics')\n",
    "            elif re.match(r'^'+h+'://edition.cnn.com/\\d{4}/'+k+'/\\d{2}/\\d{2}/.+/index\\.html$',article['url']) is not None:\n",
    "                res.append('politics')\n",
    "\n",
    "         # local category\n",
    "        local_keyword = ['europe','EUROPE','africa','AFRICA','us','US','americas','AMERICAS','middleeast','MIDDLEEAST','meast','MEAST','asia','ASIA','asiapcf','ASIAPCF']\n",
    "        for k in local_keyword:\n",
    "            if re.match(r'^'+h+'://edition.cnn.com/\\d{4}/\\d{2}/\\d{2}/'+k+'/.+/index\\.html$',article['url']) is not None:\n",
    "                res.append('local')\n",
    "            elif re.match(r'^'+h+'://edition.cnn.com/\\d{4}/\\d{2}/\\d{2}/'+k+'/.+/$',article['url']) is not None:\n",
    "                res.append('local')\n",
    "            for w in ['world','WORLD']:\n",
    "#                 'https://edition.cnn.com/2011/10/05/world/africa/skulls-return-to-namibia/index.html'\n",
    "                if re.match(r'^'+h+'://edition.cnn.com/\\d{4}/'+w+'/'+k+'/\\d{2}/\\d{2}/.+/$',article['url']) is not None:\n",
    "                    #             \"http://edition.cnn.com/2010/WORLD/africa/05/12/eugene.rutagarama.profile/\"}\n",
    "                    res.append('local')\n",
    "                elif re.match(r'^'+h+'://edition.cnn.com/\\d{4}/\\d{2}/\\d{2}/'+w+'/'+k+'/.+/index\\.html$',article['url']) is not None:\n",
    "                    res.append('local')\n",
    "                elif re.match(r'^'+h+'://edition.cnn.com/\\d{4}/'+w+'/'+k+'/\\d{2}/\\d{2}/.+/index\\.html$',article['url']) is not None:\n",
    "        #  \"http://edition.cnn.com/2010/WORLD/africa/08/31/nigerian.singer.nneka/index.html\"}\n",
    "                    res.append('local')\n",
    "                elif re.match(r'^'+h+'://edition.cnn.com/\\d{4}/\\d{2}/\\d{2}/'+w+'/'+k+'/.+/$',article['url']) is not None:\n",
    "                    #               https://edition.cnn.com/2013/07/14/world/africa/south-africa-mandela-mbeki/\n",
    "                    res.append('local')\n",
    "\n",
    "\n",
    "\n",
    "\n",
    "    # http://edition.cnn.com/2011/HEALTH/01/05/autism.vaccines/\"}\n",
    "        health_keyword = ['health','HEALTH']\n",
    "        for k in health_keyword:\n",
    "            if re.match(r'^'+h+'://edition.cnn.com/\\d{4}/\\d{2}/\\d{2}/'+k+'/.+/index\\.html$',article['url']) is not None:\n",
    "                res.append('health')\n",
    "            elif re.match(r'^'+h+'://edition.cnn.com/\\d{4}/'+k+'(/.+)?/\\d{2}/\\d{2}/.+/index\\.html$',article['url']) is not None:\n",
    "                res.append('health')\n",
    "            elif re.match(r'^'+h+'://edition.cnn.com/\\d{4}/'+k+'/\\d{2}/\\d{2}/.+/$',article['url']) is not None:\n",
    "                res.append('health')\n",
    "            elif re.match(r'^'+h+'://edition.cnn.com/\\d{4}/\\d{2}/\\d{2}/'+k+'/.+/$',article['url']) is not None:\n",
    "                res.append('health')\n",
    "                \n",
    "#                 \"http://edition.cnn.com/2011/HEALTH/expert.q.a/11/20/male.urination.frequency.shu/index.html\"}\n",
    "\n",
    "        opinion_keyword = ['opinions','OPINIONS','OPINION','opinion']\n",
    "        for k in opinion_keyword:\n",
    "            if re.match(r'^'+h+'://edition.cnn.com/\\d{4}/\\d{2}/\\d{2}/'+k+'/.+/index\\.html$',article['url']) is not None:\n",
    "                # \"https://edition.cnn.com/2015/11/02/opinions/beckel-nation-of-addicts/index.html\"\n",
    "                res.append('opinions')\n",
    "            elif re.match(r'^'+h+'://edition.cnn.com/\\d{4}/'+k+'/\\d{2}/\\d{2}/.+/index\\.html$',article['url']) is not None:\n",
    "    #              \"http://edition.cnn.com/2010/OPINION/08/20/ayittey.democracy.africa/index.html\"}\n",
    "                res.append('opinions')\n",
    "            elif re.match(r'^'+h+'://edition.cnn.com/\\d{4}/\\d{2}/\\d{2}/'+k+'/.+/$',article['url']) is not None:\n",
    "                # \"https://edition.cnn.com/2015/11/02/opinions/beckel-nation-of-addicts/index.html\"\n",
    "                res.append('opinions')\n",
    "                \n",
    "    return res"
   ]
  },
  {
   "cell_type": "code",
   "execution_count": 11,
   "metadata": {
    "collapsed": true
   },
   "outputs": [],
   "source": [
    "sourse_dir = \"/Users/Ageha/news-please-repo/data/2018/03/05/edition.cnn.com/\""
   ]
  },
  {
   "cell_type": "code",
   "execution_count": 12,
   "metadata": {},
   "outputs": [
    {
     "name": "stdout",
     "output_type": "stream",
     "text": [
      "500\n"
     ]
    }
   ],
   "source": [
    "log_txt = ''\n",
    "json_names = os.listdir(sourse_dir)\n",
    "count = 0\n",
    "for jname in json_names:\n",
    "    if jname.endswith('.json') is False:\n",
    "        # if the file is not a json file, skip it\n",
    "        continue\n",
    "    article = json.load(open(sourse_dir + jname))\n",
    "    \n",
    "    if article['text'] is None:\n",
    "        os.remove(sourse_dir + jname)\n",
    "        continue\n",
    "    \n",
    "    res = give_label(article)\n",
    "\n",
    "        \n",
    "    if (len(res) == 1):\n",
    "        os.rename(sourse_dir + jname, data_dir+res[0]+'/'+jname)\n",
    "    elif (len(res) > 1):\n",
    "        # the article belongs to multiple categories\n",
    "        os.rename(sourse_dir + jname, data_dir+'multi-labels/'+jname)\n",
    "    else:\n",
    "        # error\n",
    "        log_txt+= sourse_dir + jname + '\\n'\n",
    "        \n",
    "    count+=1\n",
    "    if (count % 500 == 0):\n",
    "        print(count)\n"
   ]
  },
  {
   "cell_type": "code",
   "execution_count": null,
   "metadata": {
    "collapsed": true
   },
   "outputs": [],
   "source": [
    "with open('./log.txt','a') as f:\n",
    "    f.write(log_txt)"
   ]
  },
  {
   "cell_type": "code",
   "execution_count": 13,
   "metadata": {},
   "outputs": [
    {
     "name": "stdout",
     "output_type": "stream",
     "text": [
      "???: 969\n",
      "opinions: 523\n",
      "health: 1070\n",
      "entertainment: 168\n",
      "sport: 1566\n",
      "style: 608\n",
      "local: 2837\n",
      "politics: 1988\n",
      "money: 2932\n",
      "same-url: 3184\n",
      "multi-labels: 0\n",
      "travel: 755\n"
     ]
    }
   ],
   "source": [
    "for l in os.listdir(data_dir):\n",
    "    if l == '.DS_Store':\n",
    "        continue\n",
    "    print(l + \": \" + str(len(os.listdir(data_dir+l))))"
   ]
  },
  {
   "cell_type": "code",
   "execution_count": 14,
   "metadata": {
    "collapsed": true
   },
   "outputs": [],
   "source": [
    "urls = []\n",
    "for l in labels:\n",
    "    for name in os.listdir(data_dir+l):\n",
    "        article = json.load(open(data_dir+l+'/'+name))\n",
    "        if article['url'] in urls:\n",
    "            os.rename(data_dir+l+'/'+name,\"../data/same-url/\"+name)\n",
    "        else:\n",
    "            urls.append(article['url'])"
   ]
  },
  {
   "cell_type": "code",
   "execution_count": 16,
   "metadata": {},
   "outputs": [
    {
     "name": "stdout",
     "output_type": "stream",
     "text": [
      "1\n"
     ]
    }
   ],
   "source": [
    "title_dict = {}\n",
    "count = 0\n",
    "for l in ['sport','health','money','local','politics']:\n",
    "    for name in os.listdir(data_dir+l):\n",
    "        article = json.load(open(data_dir+l+'/'+name))\n",
    "        if article['title'] in title_dict.keys():\n",
    "            b = json.load(open(data_dir+l+'/'+title_dict[article['title']]))\n",
    "            if (b['title'] == article['title']) and (b['text'] == article['text']) and (b['authors'] == article['authors']) and (b['date_publish'] == article['date_publish']):\n",
    "                os.remove(data_dir+l+'/'+name)\n",
    "                count+=1\n",
    "        else:\n",
    "            title_dict[article['title']] = name\n",
    "print(count)\n",
    "       \n",
    "            \n",
    "            "
   ]
  },
  {
   "cell_type": "code",
   "execution_count": 20,
   "metadata": {},
   "outputs": [
    {
     "name": "stdout",
     "output_type": "stream",
     "text": [
      "2\n"
     ]
    }
   ],
   "source": [
    "\n",
    "count = 0\n",
    "for l in ['sport','health','money','local','politics']:\n",
    "    for name in os.listdir(data_dir+l):\n",
    "        article = json.load(open(data_dir+l+'/'+name))\n",
    "        if (article['text'] is None) or (article['title'] is None): \n",
    "            os.remove(data_dir+l+'/'+name)\n",
    "            count+=1\n",
    "print(count)"
   ]
  },
  {
   "cell_type": "code",
   "execution_count": 17,
   "metadata": {},
   "outputs": [
    {
     "name": "stdout",
     "output_type": "stream",
     "text": [
      "???: 968\n",
      "opinions: 512\n",
      "health: 1037\n",
      "entertainment: 163\n",
      "sport: 1564\n",
      "style: 589\n",
      "local: 2787\n",
      "politics: 1827\n",
      "money: 2932\n",
      "same-url: 3470\n",
      "multi-labels: 0\n",
      "travel: 750\n"
     ]
    }
   ],
   "source": [
    "for l in os.listdir(data_dir):\n",
    "    if l == '.DS_Store':\n",
    "        continue\n",
    "    print(l + \": \" + str(len(os.listdir(data_dir+l))))"
   ]
  },
  {
   "cell_type": "code",
   "execution_count": 19,
   "metadata": {},
   "outputs": [
    {
     "data": {
      "text/plain": [
       "10147"
      ]
     },
     "execution_count": 19,
     "metadata": {},
     "output_type": "execute_result"
    }
   ],
   "source": [
    "sum([len(os.listdir(data_dir+l)) for l in os.listdir(data_dir) if l in ['sport','health','money','local','politics']])\n",
    "        "
   ]
  },
  {
   "cell_type": "code",
   "execution_count": null,
   "metadata": {
    "collapsed": true
   },
   "outputs": [],
   "source": []
  }
 ],
 "metadata": {
  "kernelspec": {
   "display_name": "Python 3",
   "language": "python",
   "name": "python3"
  },
  "language_info": {
   "codemirror_mode": {
    "name": "ipython",
    "version": 3
   },
   "file_extension": ".py",
   "mimetype": "text/x-python",
   "name": "python",
   "nbconvert_exporter": "python",
   "pygments_lexer": "ipython3",
   "version": "3.6.1"
  }
 },
 "nbformat": 4,
 "nbformat_minor": 2
}
